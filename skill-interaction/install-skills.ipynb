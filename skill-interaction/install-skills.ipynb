{
 "cells": [
  {
   "attachments": {},
   "cell_type": "markdown",
   "id": "ceac975b",
   "metadata": {},
   "source": [
    "## Skill installation"
   ]
  },
  {
   "cell_type": "code",
   "execution_count": null,
   "id": "800c2038",
   "metadata": {},
   "outputs": [],
   "source": [
    "from selenium import webdriver\n",
    "import time\n",
    "\n",
    "from selenium.webdriver import FirefoxOptions\n",
    "from selenium.webdriver.firefox.firefox_binary import FirefoxBinary\n",
    "from selenium.webdriver.common.desired_capabilities import DesiredCapabilities\n",
    "\n",
    "import utilities\n",
    "import os"
   ]
  },
  {
   "cell_type": "markdown",
   "id": "b622d19b",
   "metadata": {},
   "source": [
    "### Helper functions"
   ]
  },
  {
   "cell_type": "code",
   "execution_count": null,
   "id": "15fb8673",
   "metadata": {},
   "outputs": [],
   "source": [
    "FIREFOX_EXE_PATH = 'FIREFOX_EXE_PATH'\n",
    "GECKO_PATH = 'GECKODRIVER_PATH'\n",
    "\n",
    "# You can provide link to any skill here\n",
    "SIGNIN_PAGE = 'LINK_TO_A_SKILL'\n",
    "\n",
    "\n",
    "DATA_DIR = 'DATA_DIR'\n",
    "\n",
    "CREDENTIALS_ADDR = os.path.join(DATA_DIR,'CREDENTIALS.json')\n",
    "SKILLS_ADDR = os.path.join(DATA_DIR,'subgrouped_skills.json')\n",
    "\n",
    "EXTENSION_PATH = os.path.join(DATA_DIR, 'browser-extension.zip')"
   ]
  },
  {
   "cell_type": "markdown",
   "id": "6f820447",
   "metadata": {},
   "source": [
    "#### Update persona name"
   ]
  },
  {
   "cell_type": "code",
   "execution_count": null,
   "id": "de9c48b3",
   "metadata": {},
   "outputs": [],
   "source": [
    "PERSONA = 'PERSONA_NAME'"
   ]
  },
  {
   "cell_type": "code",
   "execution_count": null,
   "id": "c9418f9f",
   "metadata": {},
   "outputs": [],
   "source": [
    "def get_webdriver(profile_path, gecko_path, exe_path, ext_loc):\n",
    "    options = FirefoxOptions()\n",
    "    options.add_argument('-profile')\n",
    "    options.add_argument(profile_path)\n",
    "    \n",
    "    firefox_capabilities = DesiredCapabilities.FIREFOX\n",
    "    firefox_capabilities['marionette'] = True\n",
    "\n",
    "    \n",
    "    firefox_profile = webdriver.FirefoxProfile()\n",
    "    firefox_bin = FirefoxBinary(firefox_path=exe_path)\n",
    "    driver = webdriver.Firefox(firefox_binary= firefox_bin,\n",
    "                               capabilities=firefox_capabilities, \n",
    "                               options=options, \n",
    "                               executable_path=gecko_path, \n",
    "                               service_args=[\"--marionette-port\", \"2828\"])\n",
    "\n",
    "    driver.install_addon(ext_loc, temporary=True)\n",
    "    \n",
    "    return driver\n",
    "\n",
    "\n",
    "def quit_driver(driver):\n",
    "    try:\n",
    "        driver.quit()\n",
    "    except BaseException as ex:\n",
    "        print('Something went wrong: ', str(ex))\n",
    "        \n",
    "        \n",
    "def signin(driver, singin_page, email, password):\n",
    "    try:\n",
    "        driver.get(singin_page)\n",
    "        time.sleep(3)\n",
    "\n",
    "        signin_button = driver.find_element_by_id('a-autoid-0-announce')\n",
    "        signin_button.click()\n",
    "        time.sleep(3)\n",
    "        \n",
    "        try:\n",
    "            email_input = driver.find_element_by_id('ap_email')\n",
    "\n",
    "        except Exception:\n",
    "            ## Assume that the user is already signed in \n",
    "            print('Already signed in. Returning.')\n",
    "            return True\n",
    "            \n",
    "        email_input.send_keys(email)\n",
    "        time.sleep(3)\n",
    "        \n",
    "        continue_button = driver.find_element_by_id('continue')\n",
    "        continue_button.click()\n",
    "        time.sleep(3)\n",
    "        \n",
    "        password_input = driver.find_element_by_id('ap_password')\n",
    "        password_input.send_keys(password)\n",
    "        time.sleep(3)\n",
    "        \n",
    "        signin_button = driver.find_element_by_id('signInSubmit')\n",
    "        signin_button.click()\n",
    "        time.sleep(3)\n",
    "        \n",
    "    except BaseException as ex:\n",
    "        print('Something went wrong: ', str(ex))\n",
    "        return False\n",
    "    \n",
    "    return True\n",
    "\n",
    "\n",
    "def install_skill(driver, url, perm = False):\n",
    "    try:\n",
    "        driver.get(url)\n",
    "        time.sleep(3)\n",
    "        \n",
    "        skill_enable_button = driver.find_element_by_id(\"a2s-skill-enable-button\")\n",
    "        skill_enable_button.click()\n",
    "        time.sleep(3)\n",
    "        \n",
    "        if perm:\n",
    "            try: \n",
    "                permission_button = driver.find_element_by_xpath(\"//input[@type='submit'][@class='a-button-input'][not(@aria-labelledby)]\")\n",
    "                permission_button.click()\n",
    "                time.sleep(3)\n",
    "       \n",
    "            except Exception:\n",
    "                print('Something went wrong when enabling permissions')\n",
    "                return False, 'perm'\n",
    "            \n",
    "\n",
    "    except BaseException as ex:\n",
    "        print('Something went wrong: ', str(ex))\n",
    "        return False, 'sim'\n",
    "    \n",
    "    return True, 'sim'"
   ]
  },
  {
   "cell_type": "code",
   "execution_count": null,
   "id": "2c7adefb",
   "metadata": {},
   "outputs": [],
   "source": [
    "def train_persona(profile_path, email, password, skills_json, \n",
    "                  no_skills_to_install=50, signin_page=SIGNIN_PAGE,  \n",
    "                  gecko_path=GECKO_PATH, exe_path=FIREFOX_EXE_PATH, ext_loc=EXTENSION_PATH):\n",
    "    \n",
    "    driver = get_webdriver(profile_path, gecko_path, exe_path, ext_loc)\n",
    "    print('WebDriver registered')\n",
    "    \n",
    "    signin_status = signin(driver, signin_page, email, password)\n",
    "\n",
    "    total_installed = 0\n",
    "    if signin_status:\n",
    "        print('Signed in.')\n",
    "        for skill in skills_json:\n",
    "            \n",
    "            skill_perm = all_skills[skill]['Skill_permission']\n",
    "            skill_url = all_skills[skill]['Skill_link']\n",
    "            \n",
    "            if len(skill_perm) > 0:\n",
    "                skill_perm = True\n",
    "            else:\n",
    "                skill_perm = False\n",
    "                \n",
    "            \n",
    "            install_status = install_skill(driver, skill_url, skill_perm)\n",
    "            \n",
    "            # Log successfully and partially installed skills\n",
    "            if install_status[0]:\n",
    "                total_installed += 1\n",
    "            \n",
    "            if total_installed >= no_skills_to_install:\n",
    "                break\n",
    "    else:\n",
    "        print('Could not sign in. Stopping the process')\n",
    "        quit_driver(driver)\n",
    "        \n",
    "    \n",
    "    quit_driver(driver)\n",
    "    print(total_installed, len(skills_json))\n",
    "    print('Installed %f skills.', (total_installed / no_skills_to_install) * 100.0)"
   ]
  },
  {
   "cell_type": "markdown",
   "id": "d31f8b38",
   "metadata": {},
   "source": [
    "### Read email, password, and profile for the persona"
   ]
  },
  {
   "cell_type": "code",
   "execution_count": null,
   "id": "1ee893fe",
   "metadata": {},
   "outputs": [],
   "source": [
    "credential = utilities.read_json(CREDENTIALS_ADDR)\n",
    "\n",
    "email = credential[PERSONA]['email']\n",
    "password = credential[PERSONA]['password']\n",
    "profile_addr = credential[PERSONA]['profile']"
   ]
  },
  {
   "cell_type": "markdown",
   "id": "f63e08f0",
   "metadata": {},
   "source": [
    "### Read top skills for the selected persona"
   ]
  },
  {
   "cell_type": "code",
   "execution_count": null,
   "id": "8e00aee1",
   "metadata": {},
   "outputs": [],
   "source": [
    "all_skills = utilities.read_json(SKILLS_ADDR)\n",
    "all_skills = all_skills[PERSONA]"
   ]
  },
  {
   "cell_type": "code",
   "execution_count": null,
   "id": "0cf2edda",
   "metadata": {},
   "outputs": [],
   "source": [
    "train_persona(profile_addr, email, password, all_skills)"
   ]
  }
 ],
 "metadata": {
  "kernelspec": {
   "display_name": "Python 3 (ipykernel)",
   "language": "python",
   "name": "python3"
  },
  "language_info": {
   "codemirror_mode": {
    "name": "ipython",
    "version": 3
   },
   "file_extension": ".py",
   "mimetype": "text/x-python",
   "name": "python",
   "nbconvert_exporter": "python",
   "pygments_lexer": "ipython3",
   "version": "3.9.9"
  }
 },
 "nbformat": 4,
 "nbformat_minor": 5
}
